{
 "cells": [
  {
   "cell_type": "markdown",
   "metadata": {},
   "source": [
    "### CUT"
   ]
  },
  {
   "cell_type": "code",
   "execution_count": 218,
   "metadata": {},
   "outputs": [],
   "source": [
    "ir_raw = pd.read_csv('INTDSRINM193N.csv')\n",
    "ir = ir_raw.set_index(pd.DatetimeIndex(ir_raw['DATE'])).drop('DATE', axis=1)"
   ]
  },
  {
   "cell_type": "code",
   "execution_count": 224,
   "metadata": {},
   "outputs": [
    {
     "data": {
      "text/plain": [
       "<AxesSubplot:xlabel='DATE'>"
      ]
     },
     "execution_count": 224,
     "metadata": {},
     "output_type": "execute_result"
    },
    {
     "data": {
      "image/png": "[encoded data removed]",
      "text/plain": [
       "<Figure size 432x288 with 1 Axes>"
      ]
     },
     "metadata": {},
     "output_type": "display_data"
    }
   ],
   "source": [
    "ir = ir[(ir.index >= '2007-09') & (ir.index.year <= 2020)]\n",
    "ir.plot()"
   ]
  },
  {
   "cell_type": "code",
   "execution_count": 225,
   "metadata": {},
   "outputs": [
    {
     "data": {
      "text/html": [
       "<div>\n",
       "<style scoped>\n",
       "    .dataframe tbody tr th:only-of-type {\n",
       "        vertical-align: middle;\n",
       "    }\n",
       "\n",
       "    .dataframe tbody tr th {\n",
       "        vertical-align: top;\n",
       "    }\n",
       "\n",
       "    .dataframe thead th {\n",
       "        text-align: right;\n",
       "    }\n",
       "</style>\n",
       "<table border=\"1\" class=\"dataframe\">\n",
       "  <thead>\n",
       "    <tr style=\"text-align: right;\">\n",
       "      <th></th>\n",
       "      <th>INTDSRINM193N</th>\n",
       "    </tr>\n",
       "    <tr>\n",
       "      <th>DATE</th>\n",
       "      <th></th>\n",
       "    </tr>\n",
       "  </thead>\n",
       "  <tbody>\n",
       "    <tr>\n",
       "      <th>2007-09-01</th>\n",
       "      <td>6.00</td>\n",
       "    </tr>\n",
       "    <tr>\n",
       "      <th>2007-10-01</th>\n",
       "      <td>6.00</td>\n",
       "    </tr>\n",
       "    <tr>\n",
       "      <th>2007-11-01</th>\n",
       "      <td>6.00</td>\n",
       "    </tr>\n",
       "    <tr>\n",
       "      <th>2007-12-01</th>\n",
       "      <td>6.00</td>\n",
       "    </tr>\n",
       "    <tr>\n",
       "      <th>2008-01-01</th>\n",
       "      <td>6.00</td>\n",
       "    </tr>\n",
       "    <tr>\n",
       "      <th>...</th>\n",
       "      <td>...</td>\n",
       "    </tr>\n",
       "    <tr>\n",
       "      <th>2020-05-01</th>\n",
       "      <td>4.25</td>\n",
       "    </tr>\n",
       "    <tr>\n",
       "      <th>2020-06-01</th>\n",
       "      <td>4.25</td>\n",
       "    </tr>\n",
       "    <tr>\n",
       "      <th>2020-07-01</th>\n",
       "      <td>4.25</td>\n",
       "    </tr>\n",
       "    <tr>\n",
       "      <th>2020-08-01</th>\n",
       "      <td>4.25</td>\n",
       "    </tr>\n",
       "    <tr>\n",
       "      <th>2020-09-01</th>\n",
       "      <td>4.25</td>\n",
       "    </tr>\n",
       "  </tbody>\n",
       "</table>\n",
       "<p>157 rows × 1 columns</p>\n",
       "</div>"
      ],
      "text/plain": [
       "            INTDSRINM193N\n",
       "DATE                     \n",
       "2007-09-01           6.00\n",
       "2007-10-01           6.00\n",
       "2007-11-01           6.00\n",
       "2007-12-01           6.00\n",
       "2008-01-01           6.00\n",
       "...                   ...\n",
       "2020-05-01           4.25\n",
       "2020-06-01           4.25\n",
       "2020-07-01           4.25\n",
       "2020-08-01           4.25\n",
       "2020-09-01           4.25\n",
       "\n",
       "[157 rows x 1 columns]"
      ]
     },
     "execution_count": 225,
     "metadata": {},
     "output_type": "execute_result"
    }
   ],
   "source": [
    "ir"
   ]
  },
  {
   "cell_type": "code",
   "execution_count": 228,
   "metadata": {},
   "outputs": [
    {
     "data": {
      "text/html": [
       "<div>\n",
       "<style scoped>\n",
       "    .dataframe tbody tr th:only-of-type {\n",
       "        vertical-align: middle;\n",
       "    }\n",
       "\n",
       "    .dataframe tbody tr th {\n",
       "        vertical-align: top;\n",
       "    }\n",
       "\n",
       "    .dataframe thead th {\n",
       "        text-align: right;\n",
       "    }\n",
       "</style>\n",
       "<table border=\"1\" class=\"dataframe\">\n",
       "  <thead>\n",
       "    <tr style=\"text-align: right;\">\n",
       "      <th></th>\n",
       "      <th>Adj Close</th>\n",
       "      <th>month</th>\n",
       "      <th>year-month</th>\n",
       "    </tr>\n",
       "    <tr>\n",
       "      <th>Date</th>\n",
       "      <th></th>\n",
       "      <th></th>\n",
       "      <th></th>\n",
       "    </tr>\n",
       "  </thead>\n",
       "  <tbody>\n",
       "    <tr>\n",
       "      <th>2007-09-30</th>\n",
       "      <td>5021.350098</td>\n",
       "      <td>9</td>\n",
       "      <td>2016</td>\n",
       "    </tr>\n",
       "    <tr>\n",
       "      <th>2007-10-31</th>\n",
       "      <td>5900.649902</td>\n",
       "      <td>10</td>\n",
       "      <td>2017</td>\n",
       "    </tr>\n",
       "    <tr>\n",
       "      <th>2007-11-30</th>\n",
       "      <td>5762.750000</td>\n",
       "      <td>11</td>\n",
       "      <td>2018</td>\n",
       "    </tr>\n",
       "    <tr>\n",
       "      <th>2007-12-31</th>\n",
       "      <td>6138.600098</td>\n",
       "      <td>12</td>\n",
       "      <td>2019</td>\n",
       "    </tr>\n",
       "    <tr>\n",
       "      <th>2008-01-31</th>\n",
       "      <td>5137.450195</td>\n",
       "      <td>1</td>\n",
       "      <td>2009</td>\n",
       "    </tr>\n",
       "    <tr>\n",
       "      <th>...</th>\n",
       "      <td>...</td>\n",
       "      <td>...</td>\n",
       "      <td>...</td>\n",
       "    </tr>\n",
       "    <tr>\n",
       "      <th>2020-05-31</th>\n",
       "      <td>9580.299805</td>\n",
       "      <td>5</td>\n",
       "      <td>2025</td>\n",
       "    </tr>\n",
       "    <tr>\n",
       "      <th>2020-06-30</th>\n",
       "      <td>10302.099609</td>\n",
       "      <td>6</td>\n",
       "      <td>2026</td>\n",
       "    </tr>\n",
       "    <tr>\n",
       "      <th>2020-07-31</th>\n",
       "      <td>11073.450195</td>\n",
       "      <td>7</td>\n",
       "      <td>2027</td>\n",
       "    </tr>\n",
       "    <tr>\n",
       "      <th>2020-08-31</th>\n",
       "      <td>11387.500000</td>\n",
       "      <td>8</td>\n",
       "      <td>2028</td>\n",
       "    </tr>\n",
       "    <tr>\n",
       "      <th>2020-09-30</th>\n",
       "      <td>11247.549805</td>\n",
       "      <td>9</td>\n",
       "      <td>2029</td>\n",
       "    </tr>\n",
       "  </tbody>\n",
       "</table>\n",
       "<p>157 rows × 3 columns</p>\n",
       "</div>"
      ],
      "text/plain": [
       "               Adj Close  month  year-month\n",
       "Date                                       \n",
       "2007-09-30   5021.350098      9        2016\n",
       "2007-10-31   5900.649902     10        2017\n",
       "2007-11-30   5762.750000     11        2018\n",
       "2007-12-31   6138.600098     12        2019\n",
       "2008-01-31   5137.450195      1        2009\n",
       "...                  ...    ...         ...\n",
       "2020-05-31   9580.299805      5        2025\n",
       "2020-06-30  10302.099609      6        2026\n",
       "2020-07-31  11073.450195      7        2027\n",
       "2020-08-31  11387.500000      8        2028\n",
       "2020-09-30  11247.549805      9        2029\n",
       "\n",
       "[157 rows x 3 columns]"
      ]
     },
     "execution_count": 228,
     "metadata": {},
     "output_type": "execute_result"
    }
   ],
   "source": [
    "monthly_n50 = n50.groupby(pd.Grouper(freq=\"M\")).last()\n",
    "monthly_n50 = monthly_n50[monthly_n50.index <= '2020-10']\n",
    "monthly_n50"
   ]
  },
  {
   "cell_type": "code",
   "execution_count": 253,
   "metadata": {},
   "outputs": [
    {
     "data": {
      "text/plain": [
       "array([[ 1.91738609e+00, -5.63207995e+02],\n",
       "       [-5.63207995e+02,  6.40293680e+06]])"
      ]
     },
     "execution_count": 253,
     "metadata": {},
     "output_type": "execute_result"
    }
   ],
   "source": [
    "cov = np.cov(ir.values.flatten(), monthly_n50[['Adj Close']].values.flatten()) \n",
    "cov"
   ]
  },
  {
   "cell_type": "code",
   "execution_count": 249,
   "metadata": {},
   "outputs": [
    {
     "data": {
      "text/plain": [
       "array([[1., 1.],\n",
       "       [1., 1.]])"
      ]
     },
     "execution_count": 249,
     "metadata": {},
     "output_type": "execute_result"
    }
   ],
   "source": [
    "np.cov([1,2,3], [3,4,5])"
   ]
  },
  {
   "cell_type": "code",
   "execution_count": 254,
   "metadata": {},
   "outputs": [
    {
     "data": {
      "text/plain": [
       "array([ 6.  ,  6.  ,  6.  ,  6.  ,  6.  ,  6.  ,  6.  ,  6.  ,  6.  ,\n",
       "        6.  ,  6.  ,  6.  ,  6.  ,  6.  ,  6.  ,  6.  ,  6.  ,  6.  ,\n",
       "        6.  ,  6.  ,  6.  ,  6.  ,  6.  ,  6.  ,  6.  ,  6.  ,  6.  ,\n",
       "        6.  ,  6.  ,  6.  ,  6.  ,  6.  ,  6.  ,  6.  ,  6.  ,  6.  ,\n",
       "        6.  ,  6.  ,  6.  ,  6.  ,  6.  ,  6.  ,  6.  ,  6.  ,  6.  ,\n",
       "        6.  ,  6.  ,  6.  ,  6.  ,  6.  ,  6.  ,  6.  ,  6.  ,  9.5 ,\n",
       "        9.5 ,  9.  ,  9.  ,  9.  ,  9.  ,  9.  ,  9.  ,  9.  ,  9.  ,\n",
       "        9.  ,  9.  ,  8.75,  8.5 ,  8.5 ,  8.25,  8.25, 10.25, 10.25,\n",
       "        9.5 ,  8.75,  8.75,  8.75,  9.  ,  9.  ,  9.  ,  9.  ,  9.  ,\n",
       "        9.  ,  9.  ,  9.  ,  9.  ,  9.  ,  9.  ,  9.  ,  8.75,  8.75,\n",
       "        8.5 ,  8.5 ,  8.5 ,  8.25,  8.25,  8.25,  8.25,  7.75,  7.75,\n",
       "        7.75,  7.75,  7.75,  7.75,  7.  ,  7.  ,  7.  ,  7.  ,  7.  ,\n",
       "        7.  ,  6.75,  6.75,  6.75,  6.75,  6.75,  6.75,  6.5 ,  6.5 ,\n",
       "        6.5 ,  6.5 ,  6.25,  6.25,  6.25,  6.25,  6.25,  6.25,  6.25,\n",
       "        6.25,  6.25,  6.25,  6.5 ,  6.5 ,  6.75,  6.75,  6.75,  6.75,\n",
       "        6.75,  6.75,  6.5 ,  6.5 ,  6.25,  6.25,  6.  ,  6.  ,  5.65,\n",
       "        5.65,  5.4 ,  5.4 ,  5.4 ,  5.4 ,  5.4 ,  4.65,  4.65,  4.25,\n",
       "        4.25,  4.25,  4.25,  4.25])"
      ]
     },
     "execution_count": 254,
     "metadata": {},
     "output_type": "execute_result"
    }
   ],
   "source": [
    "ir.values.flatten()"
   ]
  },
  {
   "cell_type": "code",
   "execution_count": null,
   "metadata": {},
   "outputs": [],
   "source": []
  }
 ],
 "metadata": {
  "kernelspec": {
   "display_name": "Python 3",
   "language": "python",
   "name": "python3"
  },
  "language_info": {
   "codemirror_mode": {
    "name": "ipython",
    "version": 3
   },
   "file_extension": ".py",
   "mimetype": "text/x-python",
   "name": "python",
   "nbconvert_exporter": "python",
   "pygments_lexer": "ipython3",
   "version": "3.6.12"
  }
 },
 "nbformat": 4,
 "nbformat_minor": 4
}
