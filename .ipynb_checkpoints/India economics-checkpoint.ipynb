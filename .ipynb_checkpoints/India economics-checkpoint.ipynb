{
 "cells": [
  {
   "cell_type": "code",
   "execution_count": 1,
   "metadata": {},
   "outputs": [
    {
     "name": "stderr",
     "output_type": "stream",
     "text": [
      "/Users/kyle.nguyen/miniconda3/envs/quant/lib/python3.6/site-packages/pandas_datareader/compat/__init__.py:7: FutureWarning: pandas.util.testing is deprecated. Use the functions in the public API at pandas.testing instead.\n",
      "  from pandas.util.testing import assert_frame_equal\n"
     ]
    }
   ],
   "source": [
    "import pandas_datareader.wb as wb"
   ]
  },
  {
   "cell_type": "code",
   "execution_count": 9,
   "metadata": {},
   "outputs": [],
   "source": [
    "from pandas_datareader import data"
   ]
  },
  {
   "cell_type": "code",
   "execution_count": 6,
   "metadata": {},
   "outputs": [],
   "source": [
    "import pandas as pd"
   ]
  },
  {
   "cell_type": "code",
   "execution_count": 2,
   "metadata": {},
   "outputs": [
    {
     "data": {
      "text/html": [
       "<div>\n",
       "<style scoped>\n",
       "    .dataframe tbody tr th:only-of-type {\n",
       "        vertical-align: middle;\n",
       "    }\n",
       "\n",
       "    .dataframe tbody tr th {\n",
       "        vertical-align: top;\n",
       "    }\n",
       "\n",
       "    .dataframe thead th {\n",
       "        text-align: right;\n",
       "    }\n",
       "</style>\n",
       "<table border=\"1\" class=\"dataframe\">\n",
       "  <thead>\n",
       "    <tr style=\"text-align: right;\">\n",
       "      <th></th>\n",
       "      <th>id</th>\n",
       "      <th>name</th>\n",
       "      <th>unit</th>\n",
       "      <th>source</th>\n",
       "      <th>sourceNote</th>\n",
       "      <th>sourceOrganization</th>\n",
       "      <th>topics</th>\n",
       "    </tr>\n",
       "  </thead>\n",
       "  <tbody>\n",
       "    <tr>\n",
       "      <th>0</th>\n",
       "      <td>1.0.HCount.1.90usd</td>\n",
       "      <td>Poverty Headcount ($1.90 a day)</td>\n",
       "      <td></td>\n",
       "      <td>LAC Equity Lab</td>\n",
       "      <td>The poverty headcount index measures the propo...</td>\n",
       "      <td>b'LAC Equity Lab tabulations of SEDLAC (CEDLAS...</td>\n",
       "      <td>Poverty</td>\n",
       "    </tr>\n",
       "    <tr>\n",
       "      <th>1</th>\n",
       "      <td>1.0.HCount.2.5usd</td>\n",
       "      <td>Poverty Headcount ($2.50 a day)</td>\n",
       "      <td></td>\n",
       "      <td>LAC Equity Lab</td>\n",
       "      <td>The poverty headcount index measures the propo...</td>\n",
       "      <td>b'LAC Equity Lab tabulations of SEDLAC (CEDLAS...</td>\n",
       "      <td>Poverty</td>\n",
       "    </tr>\n",
       "    <tr>\n",
       "      <th>2</th>\n",
       "      <td>1.0.HCount.Mid10to50</td>\n",
       "      <td>Middle Class ($10-50 a day) Headcount</td>\n",
       "      <td></td>\n",
       "      <td>LAC Equity Lab</td>\n",
       "      <td>The poverty headcount index measures the propo...</td>\n",
       "      <td>b'LAC Equity Lab tabulations of SEDLAC (CEDLAS...</td>\n",
       "      <td>Poverty</td>\n",
       "    </tr>\n",
       "    <tr>\n",
       "      <th>3</th>\n",
       "      <td>1.0.HCount.Ofcl</td>\n",
       "      <td>Official Moderate Poverty Rate-National</td>\n",
       "      <td></td>\n",
       "      <td>LAC Equity Lab</td>\n",
       "      <td>The poverty headcount index measures the propo...</td>\n",
       "      <td>b'LAC Equity Lab tabulations of data from Nati...</td>\n",
       "      <td>Poverty</td>\n",
       "    </tr>\n",
       "    <tr>\n",
       "      <th>4</th>\n",
       "      <td>1.0.HCount.Poor4uds</td>\n",
       "      <td>Poverty Headcount ($4 a day)</td>\n",
       "      <td></td>\n",
       "      <td>LAC Equity Lab</td>\n",
       "      <td>The poverty headcount index measures the propo...</td>\n",
       "      <td>b'LAC Equity Lab tabulations of SEDLAC (CEDLAS...</td>\n",
       "      <td>Poverty</td>\n",
       "    </tr>\n",
       "  </tbody>\n",
       "</table>\n",
       "</div>"
      ],
      "text/plain": [
       "                     id                                     name unit  \\\n",
       "0    1.0.HCount.1.90usd          Poverty Headcount ($1.90 a day)        \n",
       "1     1.0.HCount.2.5usd          Poverty Headcount ($2.50 a day)        \n",
       "2  1.0.HCount.Mid10to50    Middle Class ($10-50 a day) Headcount        \n",
       "3       1.0.HCount.Ofcl  Official Moderate Poverty Rate-National        \n",
       "4   1.0.HCount.Poor4uds             Poverty Headcount ($4 a day)        \n",
       "\n",
       "           source                                         sourceNote  \\\n",
       "0  LAC Equity Lab  The poverty headcount index measures the propo...   \n",
       "1  LAC Equity Lab  The poverty headcount index measures the propo...   \n",
       "2  LAC Equity Lab  The poverty headcount index measures the propo...   \n",
       "3  LAC Equity Lab  The poverty headcount index measures the propo...   \n",
       "4  LAC Equity Lab  The poverty headcount index measures the propo...   \n",
       "\n",
       "                                  sourceOrganization    topics  \n",
       "0  b'LAC Equity Lab tabulations of SEDLAC (CEDLAS...  Poverty   \n",
       "1  b'LAC Equity Lab tabulations of SEDLAC (CEDLAS...  Poverty   \n",
       "2  b'LAC Equity Lab tabulations of SEDLAC (CEDLAS...  Poverty   \n",
       "3  b'LAC Equity Lab tabulations of data from Nati...  Poverty   \n",
       "4  b'LAC Equity Lab tabulations of SEDLAC (CEDLAS...  Poverty   "
      ]
     },
     "execution_count": 2,
     "metadata": {},
     "output_type": "execute_result"
    }
   ],
   "source": [
    "indicators = wb.get_indicators()\n",
    "indicators.head()"
   ]
  },
  {
   "cell_type": "code",
   "execution_count": 34,
   "metadata": {},
   "outputs": [
    {
     "data": {
      "text/html": [
       "<div>\n",
       "<style scoped>\n",
       "    .dataframe tbody tr th:only-of-type {\n",
       "        vertical-align: middle;\n",
       "    }\n",
       "\n",
       "    .dataframe tbody tr th {\n",
       "        vertical-align: top;\n",
       "    }\n",
       "\n",
       "    .dataframe thead th {\n",
       "        text-align: right;\n",
       "    }\n",
       "</style>\n",
       "<table border=\"1\" class=\"dataframe\">\n",
       "  <thead>\n",
       "    <tr style=\"text-align: right;\">\n",
       "      <th></th>\n",
       "      <th>id</th>\n",
       "      <th>name</th>\n",
       "      <th>unit</th>\n",
       "      <th>source</th>\n",
       "      <th>sourceNote</th>\n",
       "      <th>sourceOrganization</th>\n",
       "      <th>topics</th>\n",
       "    </tr>\n",
       "  </thead>\n",
       "  <tbody>\n",
       "    <tr>\n",
       "      <th>1759</th>\n",
       "      <td>CM.MKT.TRAD.CD</td>\n",
       "      <td>Stocks traded, total value (current US$)</td>\n",
       "      <td></td>\n",
       "      <td>World Development Indicators</td>\n",
       "      <td>The value of shares traded is the total number...</td>\n",
       "      <td>b'World Federation of Exchanges database.'</td>\n",
       "      <td>Financial Sector</td>\n",
       "    </tr>\n",
       "    <tr>\n",
       "      <th>5881</th>\n",
       "      <td>FM.LBL.BMNY.GD.ZS</td>\n",
       "      <td>Broad money (% of GDP)</td>\n",
       "      <td></td>\n",
       "      <td>World Development Indicators</td>\n",
       "      <td>Broad money (IFS line 35L..ZK) is the sum of c...</td>\n",
       "      <td>b'International Monetary Fund, International F...</td>\n",
       "      <td>Financial Sector</td>\n",
       "    </tr>\n",
       "    <tr>\n",
       "      <th>5931</th>\n",
       "      <td>FR.INR.RINR</td>\n",
       "      <td>Real interest rate (%)</td>\n",
       "      <td></td>\n",
       "      <td>World Development Indicators</td>\n",
       "      <td>Real interest rate is the lending interest rat...</td>\n",
       "      <td>b'International Monetary Fund, International F...</td>\n",
       "      <td>Financial Sector</td>\n",
       "    </tr>\n",
       "  </tbody>\n",
       "</table>\n",
       "</div>"
      ],
      "text/plain": [
       "                     id                                      name unit  \\\n",
       "1759     CM.MKT.TRAD.CD  Stocks traded, total value (current US$)        \n",
       "5881  FM.LBL.BMNY.GD.ZS                    Broad money (% of GDP)        \n",
       "5931        FR.INR.RINR                    Real interest rate (%)        \n",
       "\n",
       "                            source  \\\n",
       "1759  World Development Indicators   \n",
       "5881  World Development Indicators   \n",
       "5931  World Development Indicators   \n",
       "\n",
       "                                             sourceNote  \\\n",
       "1759  The value of shares traded is the total number...   \n",
       "5881  Broad money (IFS line 35L..ZK) is the sum of c...   \n",
       "5931  Real interest rate is the lending interest rat...   \n",
       "\n",
       "                                     sourceOrganization             topics  \n",
       "1759         b'World Federation of Exchanges database.'  Financial Sector   \n",
       "5881  b'International Monetary Fund, International F...  Financial Sector   \n",
       "5931  b'International Monetary Fund, International F...  Financial Sector   "
      ]
     },
     "execution_count": 34,
     "metadata": {},
     "output_type": "execute_result"
    }
   ],
   "source": [
    "indicators.loc[indicators.id.isin(['FR.INR.RINR', 'CM.MKT.TRAD.CD', 'FM.LBL.BMNY.GD.ZS'])]"
   ]
  },
  {
   "cell_type": "code",
   "execution_count": 47,
   "metadata": {},
   "outputs": [
    {
     "data": {
      "text/plain": [
       "'Broad money (IFS line 35L..ZK) is the sum of currency outside banks; demand deposits other than those of the central government; the time, savings, and foreign currency deposits of resident sectors other than the central government; bank and traveler’s checks; and other securities such as certificates of deposit and commercial paper.'"
      ]
     },
     "execution_count": 47,
     "metadata": {},
     "output_type": "execute_result"
    }
   ],
   "source": [
    "indicators.at[5881, 'sourceNote']"
   ]
  },
  {
   "cell_type": "code",
   "execution_count": 23,
   "metadata": {},
   "outputs": [],
   "source": [
    "ir_raw = pd.read_csv('INTDSRINM193N.csv')\n",
    "ir = ir_raw.set_index(pd.DatetimeIndex(ir['DATE'])).drop('DATE', axis=1)"
   ]
  },
  {
   "cell_type": "code",
   "execution_count": 27,
   "metadata": {},
   "outputs": [
    {
     "data": {
      "text/plain": [
       "<matplotlib.axes._subplots.AxesSubplot at 0x7fda9065ea58>"
      ]
     },
     "execution_count": 27,
     "metadata": {},
     "output_type": "execute_result"
    },
    {
     "data": {
      "image/png": "[encoded data removed]",
      "text/plain": [
       "<Figure size 432x288 with 1 Axes>"
      ]
     },
     "metadata": {
      "needs_background": "light"
     },
     "output_type": "display_data"
    }
   ],
   "source": [
    "ir = ir[ir.index > pd.to_datetime('2010-01-01')]\n",
    "ir.plot()"
   ]
  },
  {
   "cell_type": "code",
   "execution_count": 12,
   "metadata": {},
   "outputs": [
    {
     "data": {
      "text/html": [
       "<div>\n",
       "<style scoped>\n",
       "    .dataframe tbody tr th:only-of-type {\n",
       "        vertical-align: middle;\n",
       "    }\n",
       "\n",
       "    .dataframe tbody tr th {\n",
       "        vertical-align: top;\n",
       "    }\n",
       "\n",
       "    .dataframe thead th {\n",
       "        text-align: right;\n",
       "    }\n",
       "</style>\n",
       "<table border=\"1\" class=\"dataframe\">\n",
       "  <thead>\n",
       "    <tr style=\"text-align: right;\">\n",
       "      <th></th>\n",
       "      <th>High</th>\n",
       "      <th>Low</th>\n",
       "      <th>Open</th>\n",
       "      <th>Close</th>\n",
       "      <th>Volume</th>\n",
       "      <th>Adj Close</th>\n",
       "    </tr>\n",
       "    <tr>\n",
       "      <th>Date</th>\n",
       "      <th></th>\n",
       "      <th></th>\n",
       "      <th></th>\n",
       "      <th></th>\n",
       "      <th></th>\n",
       "      <th></th>\n",
       "    </tr>\n",
       "  </thead>\n",
       "  <tbody>\n",
       "    <tr>\n",
       "      <th>2020-12-24</th>\n",
       "      <td>13771.750000</td>\n",
       "      <td>13626.900391</td>\n",
       "      <td>13672.150391</td>\n",
       "      <td>13749.250000</td>\n",
       "      <td>471400.0</td>\n",
       "      <td>13749.250000</td>\n",
       "    </tr>\n",
       "    <tr>\n",
       "      <th>2020-12-28</th>\n",
       "      <td>13885.299805</td>\n",
       "      <td>13811.549805</td>\n",
       "      <td>13815.150391</td>\n",
       "      <td>13873.200195</td>\n",
       "      <td>403600.0</td>\n",
       "      <td>13873.200195</td>\n",
       "    </tr>\n",
       "    <tr>\n",
       "      <th>2020-12-29</th>\n",
       "      <td>13967.599609</td>\n",
       "      <td>13859.900391</td>\n",
       "      <td>13910.349609</td>\n",
       "      <td>13932.599609</td>\n",
       "      <td>439600.0</td>\n",
       "      <td>13932.599609</td>\n",
       "    </tr>\n",
       "    <tr>\n",
       "      <th>2020-12-30</th>\n",
       "      <td>13997.000000</td>\n",
       "      <td>13864.950195</td>\n",
       "      <td>13980.900391</td>\n",
       "      <td>13981.950195</td>\n",
       "      <td>380700.0</td>\n",
       "      <td>13981.950195</td>\n",
       "    </tr>\n",
       "    <tr>\n",
       "      <th>2020-12-31</th>\n",
       "      <td>14024.849609</td>\n",
       "      <td>13936.450195</td>\n",
       "      <td>13970.000000</td>\n",
       "      <td>13981.750000</td>\n",
       "      <td>452400.0</td>\n",
       "      <td>13981.750000</td>\n",
       "    </tr>\n",
       "  </tbody>\n",
       "</table>\n",
       "</div>"
      ],
      "text/plain": [
       "                    High           Low          Open         Close    Volume  \\\n",
       "Date                                                                           \n",
       "2020-12-24  13771.750000  13626.900391  13672.150391  13749.250000  471400.0   \n",
       "2020-12-28  13885.299805  13811.549805  13815.150391  13873.200195  403600.0   \n",
       "2020-12-29  13967.599609  13859.900391  13910.349609  13932.599609  439600.0   \n",
       "2020-12-30  13997.000000  13864.950195  13980.900391  13981.950195  380700.0   \n",
       "2020-12-31  14024.849609  13936.450195  13970.000000  13981.750000  452400.0   \n",
       "\n",
       "               Adj Close  \n",
       "Date                      \n",
       "2020-12-24  13749.250000  \n",
       "2020-12-28  13873.200195  \n",
       "2020-12-29  13932.599609  \n",
       "2020-12-30  13981.950195  \n",
       "2020-12-31  13981.750000  "
      ]
     },
     "execution_count": 12,
     "metadata": {},
     "output_type": "execute_result"
    }
   ],
   "source": [
    "nifty50_raw = data.get_data_yahoo('^NSEI', start=pd.to_datetime('2010', yearfirst=True), end=pd.to_datetime('2021', yearfirst=True))\n",
    "nifty50_raw.tail()"
   ]
  },
  {
   "cell_type": "code",
   "execution_count": 13,
   "metadata": {},
   "outputs": [
    {
     "data": {
      "text/plain": [
       "<matplotlib.axes._subplots.AxesSubplot at 0x7fda93c0f630>"
      ]
     },
     "execution_count": 13,
     "metadata": {},
     "output_type": "execute_result"
    },
    {
     "data": {
      "image/png": "[encoded data removed]",
      "text/plain": [
       "<Figure size 432x288 with 1 Axes>"
      ]
     },
     "metadata": {
      "needs_background": "light"
     },
     "output_type": "display_data"
    }
   ],
   "source": [
    "n50 = nifty50_raw['Adj Close']\n",
    "n50.plot()"
   ]
  },
  {
   "cell_type": "code",
   "execution_count": 48,
   "metadata": {},
   "outputs": [
    {
     "ename": "AttributeError",
     "evalue": "'DataFrame' object has no attribute 'hvplot'",
     "output_type": "error",
     "traceback": [
      "\u001b[0;31m---------------------------------------------------------------------------\u001b[0m",
      "\u001b[0;31mAttributeError\u001b[0m                            Traceback (most recent call last)",
      "\u001b[0;32m<ipython-input-48-82278ef0d98b>\u001b[0m in \u001b[0;36m<module>\u001b[0;34m\u001b[0m\n\u001b[1;32m      3\u001b[0m \u001b[0mlending_rate\u001b[0m \u001b[0;34m=\u001b[0m \u001b[0mlending_rate\u001b[0m\u001b[0;34m.\u001b[0m\u001b[0mreset_index\u001b[0m\u001b[0;34m(\u001b[0m\u001b[0;34m)\u001b[0m\u001b[0;34m\u001b[0m\u001b[0;34m\u001b[0m\u001b[0m\n\u001b[1;32m      4\u001b[0m \u001b[0;34m\u001b[0m\u001b[0m\n\u001b[0;32m----> 5\u001b[0;31m \u001b[0mlending_rate_plot\u001b[0m \u001b[0;34m=\u001b[0m \u001b[0mlending_rate\u001b[0m\u001b[0;34m.\u001b[0m\u001b[0miloc\u001b[0m\u001b[0;34m[\u001b[0m\u001b[0;34m:\u001b[0m\u001b[0;34m:\u001b[0m\u001b[0;34m-\u001b[0m\u001b[0;36m1\u001b[0m\u001b[0;34m,\u001b[0m\u001b[0;34m:\u001b[0m\u001b[0;34m]\u001b[0m\u001b[0;34m.\u001b[0m\u001b[0mhvplot\u001b[0m\u001b[0;34m.\u001b[0m\u001b[0mline\u001b[0m\u001b[0;34m(\u001b[0m\u001b[0mx\u001b[0m\u001b[0;34m=\u001b[0m\u001b[0;34m'year'\u001b[0m\u001b[0;34m,\u001b[0m \u001b[0my\u001b[0m\u001b[0;34m=\u001b[0m\u001b[0;34m'FR.INR.LEND'\u001b[0m\u001b[0;34m,\u001b[0m \u001b[0mby\u001b[0m\u001b[0;34m=\u001b[0m\u001b[0;34m'country'\u001b[0m\u001b[0;34m,\u001b[0m \u001b[0mtitle\u001b[0m\u001b[0;34m=\u001b[0m\u001b[0;34m'Lending interest rate (%)'\u001b[0m\u001b[0;34m)\u001b[0m\u001b[0;34m\u001b[0m\u001b[0;34m\u001b[0m\u001b[0m\n\u001b[0m",
      "\u001b[0;32m~/miniconda3/envs/quant/lib/python3.6/site-packages/pandas/core/generic.py\u001b[0m in \u001b[0;36m__getattr__\u001b[0;34m(self, name)\u001b[0m\n\u001b[1;32m   5272\u001b[0m             \u001b[0;32mif\u001b[0m \u001b[0mself\u001b[0m\u001b[0;34m.\u001b[0m\u001b[0m_info_axis\u001b[0m\u001b[0;34m.\u001b[0m\u001b[0m_can_hold_identifiers_and_holds_name\u001b[0m\u001b[0;34m(\u001b[0m\u001b[0mname\u001b[0m\u001b[0;34m)\u001b[0m\u001b[0;34m:\u001b[0m\u001b[0;34m\u001b[0m\u001b[0;34m\u001b[0m\u001b[0m\n\u001b[1;32m   5273\u001b[0m                 \u001b[0;32mreturn\u001b[0m \u001b[0mself\u001b[0m\u001b[0;34m[\u001b[0m\u001b[0mname\u001b[0m\u001b[0;34m]\u001b[0m\u001b[0;34m\u001b[0m\u001b[0;34m\u001b[0m\u001b[0m\n\u001b[0;32m-> 5274\u001b[0;31m             \u001b[0;32mreturn\u001b[0m \u001b[0mobject\u001b[0m\u001b[0;34m.\u001b[0m\u001b[0m__getattribute__\u001b[0m\u001b[0;34m(\u001b[0m\u001b[0mself\u001b[0m\u001b[0;34m,\u001b[0m \u001b[0mname\u001b[0m\u001b[0;34m)\u001b[0m\u001b[0;34m\u001b[0m\u001b[0;34m\u001b[0m\u001b[0m\n\u001b[0m\u001b[1;32m   5275\u001b[0m \u001b[0;34m\u001b[0m\u001b[0m\n\u001b[1;32m   5276\u001b[0m     \u001b[0;32mdef\u001b[0m \u001b[0m__setattr__\u001b[0m\u001b[0;34m(\u001b[0m\u001b[0mself\u001b[0m\u001b[0;34m,\u001b[0m \u001b[0mname\u001b[0m\u001b[0;34m:\u001b[0m \u001b[0mstr\u001b[0m\u001b[0;34m,\u001b[0m \u001b[0mvalue\u001b[0m\u001b[0;34m)\u001b[0m \u001b[0;34m->\u001b[0m \u001b[0;32mNone\u001b[0m\u001b[0;34m:\u001b[0m\u001b[0;34m\u001b[0m\u001b[0;34m\u001b[0m\u001b[0m\n",
      "\u001b[0;31mAttributeError\u001b[0m: 'DataFrame' object has no attribute 'hvplot'"
     ]
    }
   ],
   "source": [
    "# Lending Rate Plot\n",
    "lending_rate = wb.download(indicator='FR.INR.LEND', country=['IND'], start=pd.to_datetime('2010', yearfirst=True), end=pd.to_datetime('2021', yearfirst=True))\n",
    "lending_rate = lending_rate.reset_index()\n",
    "\n",
    "lending_rate_plot = lending_rate.iloc[::-1,:].hvplot.line(x='year', y='FR.INR.LEND', by='country', title='Lending interest rate (%)')"
   ]
  },
  {
   "cell_type": "code",
   "execution_count": null,
   "metadata": {},
   "outputs": [],
   "source": []
  }
 ],
 "metadata": {
  "kernelspec": {
   "display_name": "Python 3",
   "language": "python",
   "name": "python3"
  },
  "language_info": {
   "codemirror_mode": {
    "name": "ipython",
    "version": 3
   },
   "file_extension": ".py",
   "mimetype": "text/x-python",
   "name": "python",
   "nbconvert_exporter": "python",
   "pygments_lexer": "ipython3",
   "version": "3.6.10"
  }
 },
 "nbformat": 4,
 "nbformat_minor": 4
}
